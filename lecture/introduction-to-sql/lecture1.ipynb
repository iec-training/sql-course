{
    "metadata": {
        "kernelspec": {
            "name": "SQL",
            "display_name": "SQL",
            "language": "sql"
        },
        "language_info": {
            "name": "sql",
            "version": ""
        }
    },
    "nbformat_minor": 2,
    "nbformat": 4,
    "cells": [
        {
            "cell_type": "markdown",
            "source": [
                "# Tạo Database"
            ],
            "metadata": {
                "azdata_cell_guid": "6a764325-8e24-4ca6-af00-a99bff0dce12"
            },
            "attachments": {}
        },
        {
            "cell_type": "code",
            "source": [
                "USE master\r\n",
                "GO\r\n",
                "IF NOT EXISTS (\r\n",
                " SELECT name\r\n",
                "FROM sys.databases\r\n",
                "WHERE name = N'tutorial'\r\n",
                ")\r\n",
                " CREATE DATABASE [tutorial];\r\n",
                "GO\r\n",
                "IF SERVERPROPERTY('ProductVersion') > '12'\r\n",
                " ALTER DATABASE [tutorial] SET QUERY_STORE=ON;\r\n",
                "GO"
            ],
            "metadata": {
                "azdata_cell_guid": "36e964ff-0604-451f-96c3-6ed4f91726fb",
                "language": "sql"
            },
            "outputs": [],
            "execution_count": null
        },
        {
            "cell_type": "markdown",
            "source": [
                "Refresh connection ở phía bên trái ta được:\n",
                "\n",
                "![](images/createdatabase.png)\n",
                "\n",
                "Tức là đã tạo database thành công\n",
                "\n",
                "## Nhập cơ sở dữ liệu eurovision\n",
                "\n",
                "- `File -> Open folder` chọn thư mục chứa file `eurovision.sql`\n",
                "- Click vào `Explorer`, click vào file `eurovision.sql`\n",
                "- Tại thanh công cụ phía dưới tên file, ta chọn database `tutorial`\n",
                "\n",
                "![](images/changedb.PNG)\n",
                "\n",
                "- Bấm `Run` để nhập dữ liệu"
            ],
            "metadata": {
                "azdata_cell_guid": "c5a4d87b-1c7d-4d4d-8d5e-bb1566c6f5c8"
            },
            "attachments": {}
        },
        {
            "cell_type": "markdown",
            "source": [
                "## Giới thiệu về csdl eurovision\r\n",
                "\r\n",
                "Chuyển connection sang database `tutorial`"
            ],
            "metadata": {
                "azdata_cell_guid": "877ffc4e-7b52-492f-9533-833720ce49bc"
            },
            "attachments": {}
        },
        {
            "cell_type": "code",
            "source": [
                "USE tutorial\r\n",
                "GO"
            ],
            "metadata": {
                "azdata_cell_guid": "7c572526-23c7-4059-8cf6-2af97320e0cf",
                "language": "sql"
            },
            "outputs": [],
            "execution_count": null
        },
        {
            "cell_type": "markdown",
            "source": [
                "## SELECT *\r\n",
                "\r\n",
                "Để xem bảng `eurovision`, ta sử dụng `SELECT *` để trả tất cả các giá trị trong bảng"
            ],
            "metadata": {
                "azdata_cell_guid": "958d6597-f58e-486e-acf4-ce07c8e5a493"
            },
            "attachments": {}
        },
        {
            "cell_type": "code",
            "source": [
                "SELECT * FROM dbo.eurovision"
            ],
            "metadata": {
                "azdata_cell_guid": "c0d460ac-f242-45aa-832a-644e3559a7bb",
                "language": "sql"
            },
            "outputs": [],
            "execution_count": null
        },
        {
            "cell_type": "markdown",
            "source": [
                "# Truy vấn cơ bản\r\n",
                "\r\n",
                "## Truy vấn (Queries) 101\r\n",
                "- SQL Sever: nơi lưu trữ (*store*) dữ liệu :seedling:\r\n",
                "- Truy vấn (Query): cách thức lấy (*pick*) các dữ liệu từ các quầy khác nhau\r\n",
                "- `SELECT`: keyword chính về để query\r\n",
                "\r\n",
                "![](images/q101.png)\r\n",
                "\r\n",
                "## SELECT\r\n",
                "\r\n",
                "### Một cột"
            ],
            "metadata": {
                "azdata_cell_guid": "1a5b93f9-46f6-41f0-8209-79e60d5e08ee"
            },
            "attachments": {}
        },
        {
            "cell_type": "code",
            "source": [
                "SELECT gender\r\n",
                "FROM eurovision;"
            ],
            "metadata": {
                "azdata_cell_guid": "cf545fd8-4d99-4e9d-9fd9-d20d8119e82f",
                "language": "sql"
            },
            "outputs": [],
            "execution_count": null
        },
        {
            "cell_type": "markdown",
            "source": [
                "### Nhiều cột"
            ],
            "metadata": {
                "azdata_cell_guid": "6bde01b9-5e2b-4641-841a-73b50be37cf9"
            },
            "attachments": {}
        },
        {
            "cell_type": "code",
            "source": [
                "SELECT gender, group_type\r\n",
                "FROM eurovision;"
            ],
            "metadata": {
                "azdata_cell_guid": "fed04e42-4575-4b5f-afb8-160b00aa2127",
                "language": "sql"
            },
            "outputs": [],
            "execution_count": null
        },
        {
            "cell_type": "code",
            "source": [
                "SELECT \r\n",
                "  gender, \r\n",
                "  group_type\r\n",
                "FROM \r\n",
                "  eurovision;"
            ],
            "metadata": {
                "language": "sql",
                "azdata_cell_guid": "f2889ee2-db87-45ed-9336-61e635747e54"
            },
            "outputs": [],
            "execution_count": null
        },
        {
            "cell_type": "markdown",
            "source": [
                "## SELECT TOP()\r\n",
                "### TOP(n)\r\n",
                "Sẽ trả ra n dòng đầu tiên"
            ],
            "metadata": {
                "language": "sql",
                "azdata_cell_guid": "e19aed7d-4996-40ee-b2f1-aafcefc33879"
            },
            "attachments": {}
        },
        {
            "cell_type": "code",
            "source": [
                "SELECT TOP(5) gender\r\n",
                "FROM eurovision;"
            ],
            "metadata": {
                "language": "sql",
                "azdata_cell_guid": "cc2674de-e5b1-4a5a-8f53-0734bf844cab"
            },
            "outputs": [],
            "execution_count": null
        },
        {
            "cell_type": "markdown",
            "source": [
                "### TOP(n) PERCENT\r\n",
                "Trả ra kết quả 5% đầu tiên (33 dòng)"
            ],
            "metadata": {
                "azdata_cell_guid": "f20ff4e5-fed8-48ed-b95b-fe37b05238c5"
            },
            "attachments": {}
        },
        {
            "cell_type": "code",
            "source": [
                "SELECT TOP(5) PERCENT gender\r\n",
                "FROM eurovision;"
            ],
            "metadata": {
                "azdata_cell_guid": "d883b0a1-5d66-47b7-b873-f5be3662c293",
                "language": "sql"
            },
            "outputs": [],
            "execution_count": null
        },
        {
            "cell_type": "markdown",
            "source": [
                "## SELECT DISTINCT\r\n",
                "\r\n",
                "Trả ra toàn bộ dòng của một cột"
            ],
            "metadata": {
                "azdata_cell_guid": "1892ad71-7310-421a-92b3-0901c265d992"
            },
            "attachments": {}
        },
        {
            "cell_type": "code",
            "source": [
                "SELECT DISTINCT gender\r\n",
                "FROM eurovision;"
            ],
            "metadata": {
                "azdata_cell_guid": "0ce29a4a-46e7-4154-9b14-ebb8abd74bdb",
                "language": "sql"
            },
            "outputs": [],
            "execution_count": null
        },
        {
            "cell_type": "markdown",
            "source": [
                "## Đặt alias cột kết quả với AS\r\n",
                "\r\n",
                "Trả ra các giá trị độc nhất của cột gender với tên artist_gender\r\n",
                ""
            ],
            "metadata": {
                "azdata_cell_guid": "ffad687f-5162-4ab3-9724-1a1f429e9613"
            },
            "attachments": {}
        },
        {
            "cell_type": "code",
            "source": [
                "SELECT gender AS artist_gender\r\n",
                "FROM eurovision;"
            ],
            "metadata": {
                "azdata_cell_guid": "9b28d75d-f4ce-4619-9249-7f0ab0edf2ff",
                "language": "sql"
            },
            "outputs": [],
            "execution_count": null
        },
        {
            "cell_type": "markdown",
            "source": [
                "## Thực hành\r\n",
                "\r\n",
                "- Truy vấn cột `country`\r\n",
                "- Truy vấn giá trị độc nhất cột `country`, đặt tên là `unique_country`\r\n",
                "- Truy vấn 50 dòng đầu tiên của cột `points`\r\n",
                "- Truy vấn 50 dòng đầu tiên của cả bảng"
            ],
            "metadata": {
                "azdata_cell_guid": "05a8c78d-8b63-4401-be8e-4eb5fb2ac16c"
            },
            "attachments": {}
        },
        {
            "cell_type": "code",
            "source": [
                ""
            ],
            "metadata": {
                "azdata_cell_guid": "66b49bc9-d2eb-417d-a99c-74f65a0d673b",
                "language": "sql"
            },
            "outputs": [],
            "execution_count": null
        },
        {
            "cell_type": "markdown",
            "source": [
                "# Truy vấn có thứ tự\r\n",
                "\r\n",
                "## Thứ tự của truy vấn\r\n",
                "- Dữ liệu truy vấn ra sẽ dưới dạng các tập hợp\r\n",
                "- Cấu trúc dữ liệu của tập hợp không có thứ tự\r\n",
                "- Chúng ta có thể sử dụng `ORDER BY` để truy vấn có thứ tự\r\n",
                "\r\n",
                "## ORDER BY\r\n",
                "\r\n",
                "Trả ra theo thứ tự tăng dân\r\n",
                "\r\n",
                "## ORDER BY DESC\r\n",
                "\r\n",
                "Trả ra theo thứ tự giảm dân\r\n",
                ""
            ],
            "metadata": {
                "language": "sql",
                "azdata_cell_guid": "5e0dda84-dc29-402a-baa9-1069aeb08d89"
            },
            "attachments": {}
        },
        {
            "cell_type": "code",
            "source": [
                "SELECT TOP(10) country, event_year, place\r\n",
                "FROM eurovision\r\n",
                "ORDER BY place;"
            ],
            "metadata": {
                "language": "sql",
                "azdata_cell_guid": "3d68a863-4593-4b94-b447-da29be2e00a5"
            },
            "outputs": [],
            "execution_count": null
        },
        {
            "cell_type": "code",
            "source": [
                "SELECT TOP(10) country, event_year, place\r\n",
                "FROM eurovision\r\n",
                "ORDER BY place DESC;"
            ],
            "metadata": {
                "azdata_cell_guid": "fff61fd7-cb7e-4513-9aa9-af96ea7d77e4",
                "language": "sql"
            },
            "outputs": [],
            "execution_count": null
        },
        {
            "cell_type": "markdown",
            "source": [
                "# ORDER BY nhiều cột\r\n",
                "\r\n",
                "- Sắp xếp theo cột đầu tiên trước\r\n",
                "- Gộp các dòng có cùng giá trị ở cột đầu tiên\r\n",
                "- Sắp xếp theo cột thứ hai"
            ],
            "metadata": {
                "azdata_cell_guid": "32abf12d-9506-498f-a734-edfed36238aa"
            },
            "attachments": {}
        },
        {
            "cell_type": "code",
            "source": [
                "SELECT country, event_year, place\r\n",
                "FROM eurovision\r\n",
                "ORDER BY event_year, place DESC;"
            ],
            "metadata": {
                "azdata_cell_guid": "5259719d-8730-41cc-a683-9272693b10e8",
                "language": "sql"
            },
            "outputs": [],
            "execution_count": null
        },
        {
            "cell_type": "code",
            "source": [
                "SELECT country, event_year, place\r\n",
                "FROM eurovision\r\n",
                "ORDER BY place DESC, event_year;"
            ],
            "metadata": {
                "azdata_cell_guid": "58e6ec00-e9f7-4557-9f9c-05b749e088f9",
                "language": "sql"
            },
            "outputs": [],
            "execution_count": null
        },
        {
            "cell_type": "markdown",
            "source": [
                "## ORDER BY với dữ liệu text"
            ],
            "metadata": {
                "azdata_cell_guid": "b0ad31c3-1851-4035-8411-22dc707a72f8"
            },
            "attachments": {}
        },
        {
            "cell_type": "code",
            "source": [
                "SELECT country, event_year, place\r\n",
                "FROM eurovision\r\n",
                "ORDER BY country;"
            ],
            "metadata": {
                "azdata_cell_guid": "daad855e-943c-44be-9213-4675dd579b9f",
                "language": "sql"
            },
            "outputs": [],
            "execution_count": null
        },
        {
            "cell_type": "code",
            "source": [
                "SELECT country, event_year, place\r\n",
                "FROM eurovision\r\n",
                "ORDER BY country DESC;"
            ],
            "metadata": {
                "azdata_cell_guid": "74225c1d-6dca-45b3-8eb7-852b0a499de4",
                "language": "sql"
            },
            "outputs": [],
            "execution_count": null
        },
        {
            "cell_type": "markdown",
            "source": [
                "## Thực hành\r\n",
                "- Số điểm cao nhất là bao nhiêu, ở năm nào?\r\n",
                "- Truy vấn `Top 10%` sắp xếp theo country\r\n",
                "- Nước nào đạt top 1 theo các năm"
            ],
            "metadata": {
                "azdata_cell_guid": "1cd535b5-58fe-437b-b41e-7eed02784a07"
            },
            "attachments": {}
        },
        {
            "cell_type": "markdown",
            "source": [
                "# Truy vấn sử dụng lọc\r\n",
                "\r\n",
                "## Lọc với WHERE\r\n",
                "\r\n",
                "Trả ra toàn bộ cột có place = 1"
            ],
            "metadata": {
                "azdata_cell_guid": "bf02a6df-187a-4f66-ab4e-4926ae405a2e"
            },
            "attachments": {}
        },
        {
            "cell_type": "code",
            "source": [
                "SELECT country, event_year, place\r\n",
                "FROM eurovision\r\n",
                "WHERE place = 1;"
            ],
            "metadata": {
                "azdata_cell_guid": "e831f7b5-1d1f-4199-a014-76a841ba4741",
                "language": "sql"
            },
            "outputs": [],
            "execution_count": null
        },
        {
            "cell_type": "markdown",
            "source": [
                "### Các loại điều kiện với WHERE\r\n",
                "```sql\r\n",
                "-- Rows with points greater than 10\r\n",
                "WHERE points > 10\r\n",
                "-- Rows with points less than 10\r\n",
                "WHERE points < 10\r\n",
                "-- Rows with points greater than or equal to 10\r\n",
                "WHERE points >= 10\r\n",
                "-- Rows with points less than or equal to 20\r\n",
                "WHERE points <= 20\r\n",
                "-- Character data type\r\n",
                "WHERE country = 'Spain'\r\n",
                "-- Date data type\r\n",
                "WHERE event_date = '2012-01-02'\r\n",
                "-- Testing for non-equality\r\n",
                "WHERE total <> 10;\r\n",
                "-- Testing for between\r\n",
                "WHERE total BETWEEN 20 AND 30;\r\n",
                "-- Testing for not between\r\n",
                "WHERE total NOT BETWEEN 20 AND 30;\r\n",
                "-- Testing for Null\r\n",
                "WHERE billing_state IS NULL;\r\n",
                "```"
            ],
            "metadata": {
                "azdata_cell_guid": "7102c3d2-79fb-4aae-bd18-e35c0f730b2a"
            },
            "attachments": {}
        },
        {
            "cell_type": "markdown",
            "source": [
                "## AND\r\n",
                "\r\n",
                "Trả ra các dòng thỏa mãn cả 2 điều kiện"
            ],
            "metadata": {
                "azdata_cell_guid": "e06d7948-8c7a-488f-bb6c-0d0690a3a46a"
            },
            "attachments": {}
        },
        {
            "cell_type": "code",
            "source": [
                "SELECT country, event_year, place\r\n",
                "FROM eurovision\r\n",
                "WHERE place < 10 AND country = 'France';"
            ],
            "metadata": {
                "azdata_cell_guid": "0843213a-7437-44d2-aaa1-05b682685eac",
                "language": "sql"
            },
            "outputs": [],
            "execution_count": null
        },
        {
            "cell_type": "markdown",
            "source": [
                "## OR\r\n",
                "\r\n",
                "Trả ra các dòng thỏa mãn 1 trong 2 điều kiện"
            ],
            "metadata": {
                "language": "sql",
                "azdata_cell_guid": "8afd23ca-d72e-4c27-966a-0b457841876e"
            },
            "attachments": {}
        },
        {
            "cell_type": "code",
            "source": [
                "SELECT country, event_year, place\r\n",
                "FROM eurovision\r\n",
                "WHERE place = 1 OR country = 'France';"
            ],
            "metadata": {
                "azdata_cell_guid": "6d347e06-5324-4c0d-9276-bbfd9dd447a1",
                "language": "sql"
            },
            "outputs": [],
            "execution_count": null
        },
        {
            "cell_type": "markdown",
            "source": [
                "# IN\r\n",
                "\r\n",
                "Trả ra các dòng thuộc một trong nhữngđiều kiện"
            ],
            "metadata": {
                "azdata_cell_guid": "23a16ff1-5639-4a6f-96ce-168fbd5e539a"
            },
            "attachments": {}
        },
        {
            "cell_type": "code",
            "source": [
                "SELECT country, event_year, place\r\n",
                "FROM eurovision\r\n",
                "WHERE country IN ('France', 'Russia');"
            ],
            "metadata": {
                "azdata_cell_guid": "839b2962-61b1-4a1e-8982-b47d8d48ff93",
                "language": "sql"
            },
            "outputs": [],
            "execution_count": null
        },
        {
            "cell_type": "markdown",
            "source": [
                "## Thực hành\r\n",
                "- Truy vấn `country = 'Russia'` và có `event_year = 1999 hoặc >2005`\r\n",
                "- Truy vấn `country = 'Russia'` và sắp xếp theo place"
            ],
            "metadata": {
                "azdata_cell_guid": "f02c7f41-7600-40fa-972c-f31dca03ea3a"
            },
            "attachments": {}
        }
    ]
}